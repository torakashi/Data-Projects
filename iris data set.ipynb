{
 "cells": [
  {
   "cell_type": "code",
   "execution_count": 12,
   "metadata": {},
   "outputs": [
    {
     "name": "stdout",
     "output_type": "stream",
     "text": [
      "<function load_iris at 0x0000022DA2098840>\n"
     ]
    }
   ],
   "source": [
    "#import iris function from datasets module\n",
    "from sklearn.datasets import load_iris\n",
    "\n",
    "print (load_iris)"
   ]
  },
  {
   "cell_type": "code",
   "execution_count": 25,
   "metadata": {},
   "outputs": [
    {
     "data": {
      "text/plain": [
       "sklearn.utils.Bunch"
      ]
     },
     "execution_count": 25,
     "metadata": {},
     "output_type": "execute_result"
    }
   ],
   "source": [
    "iris = load_iris()\n",
    "type(iris) #??? what does this do?\n",
    "\n",
    "\n",
    "#print(iris)"
   ]
  },
  {
   "cell_type": "code",
   "execution_count": 26,
   "metadata": {},
   "outputs": [
    {
     "name": "stdout",
     "output_type": "stream",
     "text": [
      "['sepal length (cm)', 'sepal width (cm)', 'petal length (cm)', 'petal width (cm)']\n",
      "['setosa' 'versicolor' 'virginica']\n"
     ]
    }
   ],
   "source": [
    "# we can see now : the iris dataset has 4 features, meaning 4 independent\n",
    "# variables with which we can classify our sample -> classfication/categorisation\n",
    "\n",
    "\n",
    "print (iris.feature_names)\n",
    "print (iris.target_names)"
   ]
  },
  {
   "cell_type": "code",
   "execution_count": 27,
   "metadata": {},
   "outputs": [],
   "source": [
    "# features and response are stored seperately: namely iris.data and iris.target\n",
    "# this is important for?\n",
    "\n",
    "#number of y and X (response and features) in data set can be shown using print(?dataset?.shape)\n",
    "#the output is (y,X)\n",
    "#is y equal to the rank of the numpy array? (rank = number of dimensions)\n",
    "y = iris.target\n",
    "X = iris.data\n",
    "#print(X,y)"
   ]
  },
  {
   "cell_type": "code",
   "execution_count": 28,
   "metadata": {},
   "outputs": [],
   "source": [
    "# STEP1 import class you plan to use\n",
    "\n",
    "from sklearn.neighbors import KNeighborsClassifier\n",
    "\n"
   ]
  },
  {
   "cell_type": "code",
   "execution_count": 29,
   "metadata": {},
   "outputs": [],
   "source": [
    "# STEP2 Initiate the estimator \n",
    "#estimator is sklearn terminology for \"model\"\n",
    "# initiate means to feed the model with feature data\n",
    "\n",
    "KNN1 = KNeighborsClassifier(n_neighbors=1) #tell the KNN1 object to look for the 1 (distance unit) nearest Neighbor"
   ]
  },
  {
   "cell_type": "code",
   "execution_count": 30,
   "metadata": {},
   "outputs": [
    {
     "data": {
      "text/plain": [
       "KNeighborsClassifier(algorithm='auto', leaf_size=30, metric='minkowski',\n",
       "           metric_params=None, n_jobs=1, n_neighbors=1, p=2,\n",
       "           weights='uniform')"
      ]
     },
     "execution_count": 30,
     "metadata": {},
     "output_type": "execute_result"
    }
   ],
   "source": [
    "KNN1.fit(X, y)"
   ]
  },
  {
   "cell_type": "code",
   "execution_count": null,
   "metadata": {},
   "outputs": [],
   "source": [
    "flower= []\n",
    "\n",
    "flower.append (input (\"sepal length \"))\n",
    "flower.append (input (\"sepal width \"))\n",
    "flower.append (input (\"pedal length \"))\n",
    "flower.append (input (\"pedal width \"))\n",
    "\n",
    "print (flower)\n",
    "\n",
    "flower_float = list(map(float, flower)) #MERKEN!\n",
    "\n",
    "print (flower_float)"
   ]
  },
  {
   "cell_type": "code",
   "execution_count": null,
   "metadata": {
    "scrolled": false
   },
   "outputs": [],
   "source": [
    "\n",
    "print(KNN1.predict([flower_float]))\n",
    "\n",
    "a= \"-> It´s a Setosa\"\n",
    "b= \"-> It´s a Versicolor\"\n",
    "c= \"-> It´s a Virginica\"\n",
    "\n",
    "if KNN1.predict([flower_float])==0: \n",
    "    print (a)\n",
    "elif KNN1.predict([flower_float])==1:\n",
    "    print (b)\n",
    "elif KNN1.predict([flower_float])==2:\n",
    "    print (c)\n",
    "    \n",
    "# CAUTION!!!! use ([[-------]]) double square brackets -> because it´s expecting 2 D array!"
   ]
  },
  {
   "cell_type": "code",
   "execution_count": null,
   "metadata": {},
   "outputs": [],
   "source": []
  },
  {
   "cell_type": "code",
   "execution_count": null,
   "metadata": {},
   "outputs": [],
   "source": []
  }
 ],
 "metadata": {
  "kernelspec": {
   "display_name": "Python 3",
   "language": "python",
   "name": "python3"
  },
  "language_info": {
   "codemirror_mode": {
    "name": "ipython",
    "version": 3
   },
   "file_extension": ".py",
   "mimetype": "text/x-python",
   "name": "python",
   "nbconvert_exporter": "python",
   "pygments_lexer": "ipython3",
   "version": "3.7.0"
  }
 },
 "nbformat": 4,
 "nbformat_minor": 2
}
